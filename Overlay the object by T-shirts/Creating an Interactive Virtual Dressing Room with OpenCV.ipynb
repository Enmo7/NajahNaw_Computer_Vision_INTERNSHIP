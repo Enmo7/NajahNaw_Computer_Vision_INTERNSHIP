{
 "cells": [
  {
   "cell_type": "markdown",
   "id": "c4b8a3ca",
   "metadata": {
    "heading_collapsed": true
   },
   "source": [
    "# Install Requierment"
   ]
  },
  {
   "cell_type": "code",
   "execution_count": 1,
   "id": "ad0c49dd",
   "metadata": {
    "hidden": true
   },
   "outputs": [
    {
     "name": "stdout",
     "output_type": "stream",
     "text": [
      "Defaulting to user installation because normal site-packages is not writeable\n",
      "Requirement already satisfied: opencv-python in c:\\users\\dell\\appdata\\roaming\\python\\python39\\site-packages (4.6.0.66)\n",
      "Requirement already satisfied: numpy>=1.17.3 in c:\\program files\\anaconda\\lib\\site-packages (from opencv-python) (1.21.5)\n",
      "Defaulting to user installation because normal site-packages is not writeable\n",
      "Requirement already satisfied: cvzone in c:\\users\\dell\\appdata\\roaming\\python\\python39\\site-packages (1.5.6)\n",
      "Requirement already satisfied: numpy in c:\\program files\\anaconda\\lib\\site-packages (from cvzone) (1.21.5)\n",
      "Requirement already satisfied: opencv-python in c:\\users\\dell\\appdata\\roaming\\python\\python39\\site-packages (from cvzone) (4.6.0.66)\n"
     ]
    }
   ],
   "source": [
    "!pip install opencv-python\n",
    "!pip install cvzone"
   ]
  },
  {
   "cell_type": "markdown",
   "id": "4c5d90a8",
   "metadata": {
    "heading_collapsed": true
   },
   "source": [
    "# Import Libraries"
   ]
  },
  {
   "cell_type": "code",
   "execution_count": 2,
   "id": "65fc6697",
   "metadata": {
    "hidden": true
   },
   "outputs": [],
   "source": [
    "import os\n",
    "import cv2\n",
    "import cvzone\n",
    "import numpy as np\n",
    "from cvzone.PoseModule import PoseDetector"
   ]
  },
  {
   "cell_type": "markdown",
   "id": "6ceb817b",
   "metadata": {
    "heading_collapsed": true
   },
   "source": [
    "# Model"
   ]
  },
  {
   "cell_type": "markdown",
   "id": "2f25152e",
   "metadata": {
    "heading_collapsed": true,
    "hidden": true
   },
   "source": [
    "## Initialization"
   ]
  },
  {
   "cell_type": "code",
   "execution_count": 3,
   "id": "f5f912be",
   "metadata": {
    "hidden": true
   },
   "outputs": [],
   "source": [
    "cap = cv2.VideoCapture(\"test - Trim.mp4\")\n",
    "detector = PoseDetector()\n",
    "shirtfolderpath = 'Resources/Shirts'\n",
    "listshirts = os.listdir(shirtfolderpath)\n",
    "fixedRatio = 262 / 190  # widthOfShirt/widthOfPoint11to12c\n",
    "shirtRatioHeightWidth = 581 / 440\n",
    "imageNumber = 0\n",
    "imgButtonRight = cv2.imread(\"button.png\", cv2.IMREAD_UNCHANGED)\n",
    "imgButtonLeft = cv2.flip(imgButtonRight, 1)\n",
    "counterRight = 0\n",
    "counterLeft = 0\n",
    "selectionSpeed = 10"
   ]
  },
  {
   "cell_type": "markdown",
   "id": "ca277684",
   "metadata": {
    "heading_collapsed": true,
    "hidden": true
   },
   "source": [
    "## Real Time Video"
   ]
  },
  {
   "cell_type": "code",
   "execution_count": 4,
   "id": "87d32fca",
   "metadata": {
    "hidden": true
   },
   "outputs": [],
   "source": [
    "while True:\n",
    "    success, img = cap.read()\n",
    "    img = detector.findPose(img)\n",
    "    # img = cv2.flip(img,1)\n",
    "    lmList, bboxInfo = detector.findPosition(img, bboxWithHands=False, draw=False)\n",
    "    if lmList:\n",
    "        # center = bboxInfo[\"center\"]\n",
    "        lm11 = lmList[11][1:3]\n",
    "        lm12 = lmList[12][1:3]\n",
    "        imgShirt = cv2.imread(os.path.join(shirtfolderpath, listshirts[imageNumber]), cv2.IMREAD_UNCHANGED)\n",
    "\n",
    "        widthOfShirt = int((lm11[0] - lm12[0]) * fixedRatio)\n",
    "#         print(widthOfShirt)\n",
    "        try:\n",
    "            imgShirt = cv2.resize(imgShirt, (widthOfShirt, int(widthOfShirt * shirtRatioHeightWidth)))\n",
    "        except:\n",
    "            break\n",
    "\n",
    "        currentScale = (lm11[0] - lm12[0]) / 190\n",
    "        offset = int(44 * currentScale), int(48 * currentScale)\n",
    "\n",
    "        try:\n",
    "            img = cvzone.overlayPNG(img, imgShirt, (lm12[0] - offset[0], lm12[1] - offset[1]))\n",
    "        except:\n",
    "            pass\n",
    "\n",
    "        img = cvzone.overlayPNG(img, imgButtonRight, (1074, 293))\n",
    "        img = cvzone.overlayPNG(img, imgButtonLeft, (72, 293))\n",
    "\n",
    "        if lmList[16][1] < 300:\n",
    "            counterRight += 1\n",
    "            cv2.ellipse(img, (139, 360), (66, 66), 0, 0,\n",
    "                        counterRight * selectionSpeed, (0, 255, 0), 20)\n",
    "            if counterRight * selectionSpeed > 360:\n",
    "                counterRight = 0\n",
    "                if imageNumber < len(listshirts) - 1:\n",
    "                    imageNumber += 1\n",
    "        elif lmList[15][1] > 900:\n",
    "            counterLeft += 1\n",
    "            cv2.ellipse(img, (1138, 360), (66, 66), 0, 0,\n",
    "                        counterLeft * selectionSpeed, (0, 255, 0), 20)\n",
    "            if counterLeft * selectionSpeed > 360:\n",
    "                counterLeft = 0\n",
    "                if imageNumber > 0:\n",
    "                    imageNumber -= 1\n",
    "\n",
    "        else:\n",
    "            counterRight = 0\n",
    "            counterLeft = 0\n",
    "\n",
    "    cv2.imshow(\"Image\", img)\n",
    "    if cv2.waitKey(1) == ord('q'):\n",
    "        break"
   ]
  },
  {
   "cell_type": "markdown",
   "id": "245af29d",
   "metadata": {
    "heading_collapsed": true,
    "hidden": true
   },
   "source": [
    "## Video"
   ]
  },
  {
   "cell_type": "code",
   "execution_count": 5,
   "id": "630ca987",
   "metadata": {
    "hidden": true
   },
   "outputs": [],
   "source": [
    "output_path = \"output_video.mp4\"\n",
    "fps = 30.0  # Adjust the frame rate as needed\n",
    "frame_width = int(cap.get(cv2.CAP_PROP_FRAME_WIDTH))\n",
    "frame_height = int(cap.get(cv2.CAP_PROP_FRAME_HEIGHT))\n",
    "fourcc = cv2.VideoWriter_fourcc(*\"mp4v\")\n",
    "out = cv2.VideoWriter(output_path, fourcc, fps, (frame_width, frame_height))"
   ]
  },
  {
   "cell_type": "code",
   "execution_count": 6,
   "id": "837678a6",
   "metadata": {
    "hidden": true
   },
   "outputs": [],
   "source": [
    "while True:\n",
    "    success, img = cap.read()\n",
    "    if not success:\n",
    "        break\n",
    "\n",
    "    img = detector.findPose(img)\n",
    "    lmList, bboxInfo = detector.findPosition(img, bboxWithHands=False, draw=False)\n",
    "    \n",
    "    if lmList:\n",
    "        lm11 = lmList[11][1:3]\n",
    "        lm12 = lmList[12][1:3]\n",
    "        imgShirt = cv2.imread(os.path.join(shirtfolderpath, listshirts[imageNumber]), cv2.IMREAD_UNCHANGED)\n",
    "\n",
    "        widthOfShirt = int((lm11[0] - lm12[0]) * fixedRatio)\n",
    "        try:\n",
    "            imgShirt = cv2.resize(imgShirt, (widthOfShirt, int(widthOfShirt * shirtRatioHeightWidth)))\n",
    "        except:\n",
    "            break\n",
    "\n",
    "        currentScale = (lm11[0] - lm12[0]) / 190\n",
    "        offset = int(44 * currentScale), int(48 * currentScale)\n",
    "\n",
    "        try:\n",
    "            img = cvzone.overlayPNG(img, imgShirt, (lm12[0] - offset[0], lm12[1] - offset[1]))\n",
    "        except:\n",
    "            pass\n",
    "\n",
    "        img = cvzone.overlayPNG(img, imgButtonRight, (1074, 293))\n",
    "        img = cvzone.overlayPNG(img, imgButtonLeft, (72, 293))\n",
    "\n",
    "        if lmList[16][1] < 300:\n",
    "            counterRight += 1\n",
    "            cv2.ellipse(img, (139, 360), (66, 66), 0, 0,\n",
    "                        counterRight * selectionSpeed, (0, 255, 0), 20)\n",
    "            if counterRight * selectionSpeed > 360:\n",
    "                counterRight = 0\n",
    "                if imageNumber < len(listshirts) - 1:\n",
    "                    imageNumber += 1\n",
    "        elif lmList[15][1] > 900:\n",
    "            counterLeft += 1\n",
    "            cv2.ellipse(img, (1138, 360), (66, 66), 0, 0,\n",
    "                        counterLeft * selectionSpeed, (0, 255, 0), 20)\n",
    "            if counterLeft * selectionSpeed > 360:\n",
    "                counterLeft = 0\n",
    "                if imageNumber > 0:\n",
    "                    imageNumber -= 1\n",
    "\n",
    "        else:\n",
    "            counterRight = 0\n",
    "            counterLeft = 0\n",
    "\n",
    "    out.write(img)\n",
    "\n",
    "    cv2.imshow(\"Image\", img)\n",
    "    if cv2.waitKey(1) == ord('q'):\n",
    "        break\n",
    "\n",
    "cap.release()\n",
    "out.release()\n",
    "cv2.destroyAllWindows()"
   ]
  }
 ],
 "metadata": {
  "kernelspec": {
   "display_name": "Python 3 (ipykernel)",
   "language": "python",
   "name": "python3"
  },
  "language_info": {
   "codemirror_mode": {
    "name": "ipython",
    "version": 3
   },
   "file_extension": ".py",
   "mimetype": "text/x-python",
   "name": "python",
   "nbconvert_exporter": "python",
   "pygments_lexer": "ipython3",
   "version": "3.9.12"
  },
  "nbTranslate": {
   "displayLangs": [
    "*"
   ],
   "hotkey": "alt-t",
   "langInMainMenu": true,
   "sourceLang": "en",
   "targetLang": "fr",
   "useGoogleTranslate": true
  }
 },
 "nbformat": 4,
 "nbformat_minor": 5
}
